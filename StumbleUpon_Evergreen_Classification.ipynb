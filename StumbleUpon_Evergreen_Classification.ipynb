{
  "cells": [
    {
      "cell_type": "code",
      "execution_count": 260,
      "metadata": {
        "id": "diY4uc_sSKXM"
      },
      "outputs": [],
      "source": [
        "import pandas as pd\n",
        "import nltk\n",
        "from nltk.corpus import stopwords\n",
        "from nltk.stem import WordNetLemmatizer\n",
        "import json"
      ]
    },
    {
      "cell_type": "code",
      "execution_count": 261,
      "metadata": {
        "id": "LrXrj6z7SMLz"
      },
      "outputs": [],
      "source": [
        "df=pd.read_csv(\"train.tsv\",sep='\\t')"
      ]
    },
    {
      "cell_type": "code",
      "execution_count": 262,
      "metadata": {
        "colab": {
          "base_uri": "https://localhost:8080/",
          "height": 354
        },
        "id": "9slZ8p5GSSdZ",
        "outputId": "dd8025fa-734d-4946-a636-9d11960199fb"
      },
      "outputs": [
        {
          "data": {
            "text/html": [
              "<div>\n",
              "<style scoped>\n",
              "    .dataframe tbody tr th:only-of-type {\n",
              "        vertical-align: middle;\n",
              "    }\n",
              "\n",
              "    .dataframe tbody tr th {\n",
              "        vertical-align: top;\n",
              "    }\n",
              "\n",
              "    .dataframe thead th {\n",
              "        text-align: right;\n",
              "    }\n",
              "</style>\n",
              "<table border=\"1\" class=\"dataframe\">\n",
              "  <thead>\n",
              "    <tr style=\"text-align: right;\">\n",
              "      <th></th>\n",
              "      <th>url</th>\n",
              "      <th>urlid</th>\n",
              "      <th>boilerplate</th>\n",
              "      <th>alchemy_category</th>\n",
              "      <th>alchemy_category_score</th>\n",
              "      <th>avglinksize</th>\n",
              "      <th>commonlinkratio_1</th>\n",
              "      <th>commonlinkratio_2</th>\n",
              "      <th>commonlinkratio_3</th>\n",
              "      <th>commonlinkratio_4</th>\n",
              "      <th>compression_ratio</th>\n",
              "      <th>embed_ratio</th>\n",
              "      <th>framebased</th>\n",
              "      <th>frameTagRatio</th>\n",
              "      <th>hasDomainLink</th>\n",
              "      <th>html_ratio</th>\n",
              "      <th>image_ratio</th>\n",
              "      <th>is_news</th>\n",
              "      <th>lengthyLinkDomain</th>\n",
              "      <th>linkwordscore</th>\n",
              "      <th>news_front_page</th>\n",
              "      <th>non_markup_alphanum_characters</th>\n",
              "      <th>numberOfLinks</th>\n",
              "      <th>numwords_in_url</th>\n",
              "      <th>parametrizedLinkRatio</th>\n",
              "      <th>spelling_errors_ratio</th>\n",
              "      <th>label</th>\n",
              "    </tr>\n",
              "  </thead>\n",
              "  <tbody>\n",
              "    <tr>\n",
              "      <th>0</th>\n",
              "      <td>http://www.bloomberg.com/news/2010-12-23/ibm-p...</td>\n",
              "      <td>4042</td>\n",
              "      <td>{\"title\":\"IBM Sees Holographic Calls Air Breat...</td>\n",
              "      <td>business</td>\n",
              "      <td>0.789131</td>\n",
              "      <td>2.055556</td>\n",
              "      <td>0.676471</td>\n",
              "      <td>0.205882</td>\n",
              "      <td>0.047059</td>\n",
              "      <td>0.023529</td>\n",
              "      <td>0.443783</td>\n",
              "      <td>0.0</td>\n",
              "      <td>0</td>\n",
              "      <td>0.090774</td>\n",
              "      <td>0</td>\n",
              "      <td>0.245831</td>\n",
              "      <td>0.003883</td>\n",
              "      <td>1</td>\n",
              "      <td>1</td>\n",
              "      <td>24</td>\n",
              "      <td>0</td>\n",
              "      <td>5424</td>\n",
              "      <td>170</td>\n",
              "      <td>8</td>\n",
              "      <td>0.152941</td>\n",
              "      <td>0.079130</td>\n",
              "      <td>0</td>\n",
              "    </tr>\n",
              "    <tr>\n",
              "      <th>1</th>\n",
              "      <td>http://www.popsci.com/technology/article/2012-...</td>\n",
              "      <td>8471</td>\n",
              "      <td>{\"title\":\"The Fully Electronic Futuristic Star...</td>\n",
              "      <td>recreation</td>\n",
              "      <td>0.574147</td>\n",
              "      <td>3.677966</td>\n",
              "      <td>0.508021</td>\n",
              "      <td>0.288770</td>\n",
              "      <td>0.213904</td>\n",
              "      <td>0.144385</td>\n",
              "      <td>0.468649</td>\n",
              "      <td>0.0</td>\n",
              "      <td>0</td>\n",
              "      <td>0.098707</td>\n",
              "      <td>0</td>\n",
              "      <td>0.203490</td>\n",
              "      <td>0.088652</td>\n",
              "      <td>1</td>\n",
              "      <td>1</td>\n",
              "      <td>40</td>\n",
              "      <td>0</td>\n",
              "      <td>4973</td>\n",
              "      <td>187</td>\n",
              "      <td>9</td>\n",
              "      <td>0.181818</td>\n",
              "      <td>0.125448</td>\n",
              "      <td>1</td>\n",
              "    </tr>\n",
              "    <tr>\n",
              "      <th>2</th>\n",
              "      <td>http://www.menshealth.com/health/flu-fighting-...</td>\n",
              "      <td>1164</td>\n",
              "      <td>{\"title\":\"Fruits that Fight the Flu fruits tha...</td>\n",
              "      <td>health</td>\n",
              "      <td>0.996526</td>\n",
              "      <td>2.382883</td>\n",
              "      <td>0.562016</td>\n",
              "      <td>0.321705</td>\n",
              "      <td>0.120155</td>\n",
              "      <td>0.042636</td>\n",
              "      <td>0.525448</td>\n",
              "      <td>0.0</td>\n",
              "      <td>0</td>\n",
              "      <td>0.072448</td>\n",
              "      <td>0</td>\n",
              "      <td>0.226402</td>\n",
              "      <td>0.120536</td>\n",
              "      <td>1</td>\n",
              "      <td>1</td>\n",
              "      <td>55</td>\n",
              "      <td>0</td>\n",
              "      <td>2240</td>\n",
              "      <td>258</td>\n",
              "      <td>11</td>\n",
              "      <td>0.166667</td>\n",
              "      <td>0.057613</td>\n",
              "      <td>1</td>\n",
              "    </tr>\n",
              "  </tbody>\n",
              "</table>\n",
              "</div>"
            ],
            "text/plain": [
              "                                                 url  ...  label\n",
              "0  http://www.bloomberg.com/news/2010-12-23/ibm-p...  ...      0\n",
              "1  http://www.popsci.com/technology/article/2012-...  ...      1\n",
              "2  http://www.menshealth.com/health/flu-fighting-...  ...      1\n",
              "\n",
              "[3 rows x 27 columns]"
            ]
          },
          "execution_count": 262,
          "metadata": {},
          "output_type": "execute_result"
        }
      ],
      "source": [
        "df.head(3)"
      ]
    },
    {
      "cell_type": "code",
      "execution_count": 262,
      "metadata": {
        "id": "77esAjzbvCBC"
      },
      "outputs": [],
      "source": []
    },
    {
      "cell_type": "code",
      "execution_count": 263,
      "metadata": {
        "colab": {
          "base_uri": "https://localhost:8080/"
        },
        "id": "5nWp53jO8xvG",
        "outputId": "7fc76ea0-4929-4d35-a373-b6bf046744da"
      },
      "outputs": [
        {
          "name": "stdout",
          "output_type": "stream",
          "text": [
            "(7395, 27)\n"
          ]
        }
      ],
      "source": [
        "print(df.shape)"
      ]
    },
    {
      "cell_type": "code",
      "execution_count": 264,
      "metadata": {
        "id": "DOk89gU2qyg3"
      },
      "outputs": [],
      "source": [
        "df_train=df[[\"boilerplate\",\"label\"]]"
      ]
    },
    {
      "cell_type": "code",
      "execution_count": 265,
      "metadata": {
        "colab": {
          "base_uri": "https://localhost:8080/"
        },
        "id": "dQBs3sy2o23X",
        "outputId": "0a6e9b84-0ecd-4cca-fdd5-c150949dd515"
      },
      "outputs": [
        {
          "name": "stderr",
          "output_type": "stream",
          "text": [
            "/usr/local/lib/python3.7/dist-packages/pandas/core/series.py:4582: SettingWithCopyWarning: \n",
            "A value is trying to be set on a copy of a slice from a DataFrame\n",
            "\n",
            "See the caveats in the documentation: https://pandas.pydata.org/pandas-docs/stable/user_guide/indexing.html#returning-a-view-versus-a-copy\n",
            "  method=method,\n",
            "/usr/local/lib/python3.7/dist-packages/ipykernel_launcher.py:5: SettingWithCopyWarning: \n",
            "A value is trying to be set on a copy of a slice from a DataFrame.\n",
            "Try using .loc[row_indexer,col_indexer] = value instead\n",
            "\n",
            "See the caveats in the documentation: https://pandas.pydata.org/pandas-docs/stable/user_guide/indexing.html#returning-a-view-versus-a-copy\n",
            "  \"\"\"\n"
          ]
        }
      ],
      "source": [
        "df_train['boilerplate'].replace(to_replace=r'\"title\":', value=\"\",inplace=True,regex=True)\n",
        "df_train['boilerplate'].replace(to_replace=r'\"url\":',value=\"\",inplace=True,regex=True)\n",
        "\n",
        "df_train['boilerplate'].replace(to_replace=r'{|}',value=\"\",inplace=True,regex=True)\n",
        "df_train['boilerplate']=df_train['boilerplate'].str.lower()"
      ]
    },
    {
      "cell_type": "code",
      "execution_count": 266,
      "metadata": {
        "colab": {
          "base_uri": "https://localhost:8080/",
          "height": 206
        },
        "id": "hgEHnQHTmpq2",
        "outputId": "1164090f-9dc5-4e7d-8a71-9c99a07e2cf8"
      },
      "outputs": [
        {
          "data": {
            "text/html": [
              "<div>\n",
              "<style scoped>\n",
              "    .dataframe tbody tr th:only-of-type {\n",
              "        vertical-align: middle;\n",
              "    }\n",
              "\n",
              "    .dataframe tbody tr th {\n",
              "        vertical-align: top;\n",
              "    }\n",
              "\n",
              "    .dataframe thead th {\n",
              "        text-align: right;\n",
              "    }\n",
              "</style>\n",
              "<table border=\"1\" class=\"dataframe\">\n",
              "  <thead>\n",
              "    <tr style=\"text-align: right;\">\n",
              "      <th></th>\n",
              "      <th>boilerplate</th>\n",
              "      <th>label</th>\n",
              "    </tr>\n",
              "  </thead>\n",
              "  <tbody>\n",
              "    <tr>\n",
              "      <th>0</th>\n",
              "      <td>\"ibm sees holographic calls air breathing batt...</td>\n",
              "      <td>0</td>\n",
              "    </tr>\n",
              "    <tr>\n",
              "      <th>1</th>\n",
              "      <td>\"the fully electronic futuristic starting gun ...</td>\n",
              "      <td>1</td>\n",
              "    </tr>\n",
              "    <tr>\n",
              "      <th>2</th>\n",
              "      <td>\"fruits that fight the flu fruits that fight t...</td>\n",
              "      <td>1</td>\n",
              "    </tr>\n",
              "    <tr>\n",
              "      <th>3</th>\n",
              "      <td>\"10 foolproof tips for better sleep \",\"body\":\"...</td>\n",
              "      <td>1</td>\n",
              "    </tr>\n",
              "    <tr>\n",
              "      <th>4</th>\n",
              "      <td>\"the 50 coolest jerseys you didn t know existe...</td>\n",
              "      <td>0</td>\n",
              "    </tr>\n",
              "  </tbody>\n",
              "</table>\n",
              "</div>"
            ],
            "text/plain": [
              "                                         boilerplate  label\n",
              "0  \"ibm sees holographic calls air breathing batt...      0\n",
              "1  \"the fully electronic futuristic starting gun ...      1\n",
              "2  \"fruits that fight the flu fruits that fight t...      1\n",
              "3  \"10 foolproof tips for better sleep \",\"body\":\"...      1\n",
              "4  \"the 50 coolest jerseys you didn t know existe...      0"
            ]
          },
          "execution_count": 266,
          "metadata": {},
          "output_type": "execute_result"
        }
      ],
      "source": [
        "df_train.head()"
      ]
    },
    {
      "cell_type": "code",
      "execution_count": 267,
      "metadata": {
        "colab": {
          "base_uri": "https://localhost:8080/"
        },
        "id": "1Yb64uOoo20w",
        "outputId": "96893aa2-49e6-4fd2-9d30-e14c76c09ac8"
      },
      "outputs": [
        {
          "name": "stdout",
          "output_type": "stream",
          "text": [
            "1    3796\n",
            "0    3599\n",
            "Name: label, dtype: int64\n"
          ]
        }
      ],
      "source": [
        "label=df_train['label'].value_counts()\n",
        "print(label)"
      ]
    },
    {
      "cell_type": "code",
      "execution_count": 268,
      "metadata": {
        "colab": {
          "base_uri": "https://localhost:8080/"
        },
        "id": "QVmyzw7cmmae",
        "outputId": "0497df28-7adb-4846-c358-8fdcae408641"
      },
      "outputs": [
        {
          "name": "stdout",
          "output_type": "stream",
          "text": [
            "[nltk_data] Downloading package punkt to /root/nltk_data...\n",
            "[nltk_data]   Package punkt is already up-to-date!\n",
            "[nltk_data] Downloading package stopwords to /root/nltk_data...\n",
            "[nltk_data]   Package stopwords is already up-to-date!\n"
          ]
        },
        {
          "data": {
            "text/plain": [
              "True"
            ]
          },
          "execution_count": 268,
          "metadata": {},
          "output_type": "execute_result"
        }
      ],
      "source": [
        ">>> import nltk\n",
        ">>> nltk.download('punkt')\n",
        "\n",
        "\n",
        ">>> import nltk\n",
        ">>> nltk.download('stopwords')"
      ]
    },
    {
      "cell_type": "code",
      "execution_count": 268,
      "metadata": {
        "id": "chEK1lE7EsMV"
      },
      "outputs": [],
      "source": []
    },
    {
      "cell_type": "code",
      "execution_count": 269,
      "metadata": {
        "id": "Djlp1_baRyG2"
      },
      "outputs": [],
      "source": [
        "def clean_text(text):\n",
        "    text=re.sub(r'\",\"body\":\"',\" \",text)\n",
        "    text=re.sub(r'\"',\"\",text)\n",
        "    text=re.sub(r'[^\\w\\s]', '', text)\n",
        "    text = re.sub(r\"i'm\", \"i am\", text)\n",
        "    text = re.sub(r\"he's\", \"he is\", text)\n",
        "    text = re.sub(r\"she's\", \"she is\", text)\n",
        "    text = re.sub(r\"that's\", \"that is\", text)        \n",
        "    text = re.sub(r\"what's\", \"what is\", text)\n",
        "    text = re.sub(r\"where's\", \"where is\", text) \n",
        "    text = re.sub(r\"\\'ll\", \" will\", text)  \n",
        "    text = re.sub(r\"\\'ve\", \" have\", text)  \n",
        "    text = re.sub(r\"\\'re\", \" are\", text)\n",
        "    text = re.sub(r\"\\'d\", \" would\", text)\n",
        "    text = re.sub(r\"\\'ve\", \" have\", text)\n",
        "    text = re.sub(r\"won't\", \"will not\", text)\n",
        "    text = re.sub(r\"don't\", \"do not\", text)\n",
        "    text = re.sub(r\"did't\", \"did not\", text)\n",
        "    text = re.sub(r\"can't\", \"can not\", text)\n",
        "    text = re.sub(r\"it's\", \"it is\", text)\n",
        "    text = re.sub(r\"couldn't\", \"could not\", text)\n",
        "    text = re.sub(r\"have't\", \"have not\", text)\n",
        "    return text"
      ]
    },
    {
      "cell_type": "code",
      "execution_count": 270,
      "metadata": {
        "id": "9g0Lf3gdRyEr"
      },
      "outputs": [],
      "source": [
        "import string\n",
        "import re\n",
        "from nltk.tokenize import word_tokenize\n",
        "from nltk.corpus import stopwords\n",
        "\n",
        "def CleanTokenize(lines):\n",
        "    head_lines = list()\n",
        "    for line in lines:\n",
        "        line = clean_text(line)\n",
        "        pattern = re.compile('http[s]?://(?:[a-zA-Z]|[0-9]|[$-_@.&+]|[!*\\(\\),]|(?:%[0-9a-fA-F][0-9a-fA-F]))+')\n",
        "        line = pattern.sub('', line)\n",
        "        # remove puntuations\n",
        "        res = re.sub(r'[^\\w\\s]', '', line)\n",
        "        #stop word removaal\n",
        "          # tokenize the text\n",
        "        words = word_tokenize(line)\n",
        "        stop_words = set(stopwords.words(\"english\"))\n",
        "        # remove stop words\n",
        "        words = [w for w in words if not w in stop_words]\n",
        "        words=\" \".join(words)\n",
        "        head_lines.append(words)\n",
        "    return head_lines"
      ]
    },
    {
      "cell_type": "code",
      "execution_count": 271,
      "metadata": {
        "id": "4jcP5UgqRyCQ"
      },
      "outputs": [],
      "source": [
        "import pandas as pd\n",
        "from tqdm import tqdm\n",
        "import re \n",
        "from sklearn.model_selection import train_test_split"
      ]
    },
    {
      "cell_type": "code",
      "execution_count": 272,
      "metadata": {
        "id": "vKOUzCt8YUHI"
      },
      "outputs": [],
      "source": [
        "X=df_train[\"boilerplate\"]\n",
        "Y=df_train[\"label\"]"
      ]
    },
    {
      "cell_type": "code",
      "execution_count": 311,
      "metadata": {
        "id": "RUA8STz0YQXw"
      },
      "outputs": [],
      "source": [
        "x_tr,x_test,y_tr,y_test=train_test_split(X,Y,test_size=0.30,random_state=42,stratify=Y)\n",
        "\n",
        "x_train,x_cv,y_train,y_cv=train_test_split(x_tr,y_tr,test_size=0.30,random_state=42,stratify=y_tr)"
      ]
    },
    {
      "cell_type": "code",
      "execution_count": 274,
      "metadata": {
        "colab": {
          "base_uri": "https://localhost:8080/"
        },
        "id": "gLyy_4DwYQTk",
        "outputId": "c3c5e956-e9f6-46fa-ac08-efb8afa789ae"
      },
      "outputs": [
        {
          "name": "stdout",
          "output_type": "stream",
          "text": [
            "(3623,) (1553,) (2219,)\n"
          ]
        }
      ],
      "source": [
        "print(x_train.shape,x_cv.shape,x_test.shape)"
      ]
    },
    {
      "cell_type": "code",
      "execution_count": 275,
      "metadata": {
        "colab": {
          "base_uri": "https://localhost:8080/"
        },
        "id": "kwoXwcF8Evvm",
        "outputId": "767b0777-cc59-4e14-a95d-b4a1119bed15"
      },
      "outputs": [
        {
          "data": {
            "text/plain": [
              "2803    \"fashion to freak out friends fake shark attac...\n",
              "2174    \"pic of the day battle of the surfaces pic of ...\n",
              "5431    \"body\":\"this video segment from the movie all ...\n",
              "2415    \"skunkboyblog 2012 11 weekly wears fuzzy fluff...\n",
              "1572    \"swine flu a false pandemic to sell vaccines e...\n",
              "                              ...                        \n",
              "5634    \"seasaltwithfood apple crumble \",\"body\":\"apple...\n",
              "1528    \"28 uses for everyday items 28 uses for everyd...\n",
              "6610    \"relishing it relishing it\",\"body\":\"i know i v...\n",
              "134     \"insidershealth glossary definition acne vulga...\n",
              "839     \"wimp pomegranatekernels\",\"this is how you get...\n",
              "Name: boilerplate, Length: 3623, dtype: object"
            ]
          },
          "execution_count": 275,
          "metadata": {},
          "output_type": "execute_result"
        }
      ],
      "source": [
        "x_train"
      ]
    },
    {
      "cell_type": "code",
      "execution_count": 313,
      "metadata": {
        "id": "RxuWT_smEnbH"
      },
      "outputs": [],
      "source": [
        "x_train = CleanTokenize(x_train)"
      ]
    },
    {
      "cell_type": "code",
      "execution_count": 314,
      "metadata": {
        "id": "x7kyau4ZcAzN"
      },
      "outputs": [],
      "source": [
        "x_cv = CleanTokenize(x_cv)"
      ]
    },
    {
      "cell_type": "code",
      "execution_count": 315,
      "metadata": {
        "id": "JS5-qzB5YpQo"
      },
      "outputs": [],
      "source": [
        "x_test = CleanTokenize(x_test)"
      ]
    },
    {
      "cell_type": "code",
      "execution_count": 315,
      "metadata": {
        "id": "C-VoNd6R3nrb"
      },
      "outputs": [],
      "source": []
    },
    {
      "cell_type": "code",
      "execution_count": 316,
      "metadata": {
        "id": "dnkLwc77EnTm"
      },
      "outputs": [],
      "source": [
        "import pandas as pd\n",
        "import numpy as np\n",
        "import nltk\n",
        "from nltk.corpus import stopwords\n",
        "from nltk.stem import WordNetLemmatizer\n",
        "import json"
      ]
    },
    {
      "cell_type": "code",
      "execution_count": 317,
      "metadata": {
        "id": "I81CLteNNgFe"
      },
      "outputs": [],
      "source": [
        "from keras.preprocessing.text import Tokenizer\n",
        "from keras.preprocessing.sequence import pad_sequences"
      ]
    },
    {
      "cell_type": "code",
      "execution_count": 318,
      "metadata": {
        "id": "T5CRjYoPNgCu"
      },
      "outputs": [],
      "source": [
        "tokenizer = Tokenizer()"
      ]
    },
    {
      "cell_type": "code",
      "execution_count": 329,
      "metadata": {
        "id": "ITP-bNp_NgAU"
      },
      "outputs": [],
      "source": [
        "tokenizer.fit_on_texts(x_train)\n",
        "train_sequences = tokenizer.texts_to_sequences(x_train)"
      ]
    },
    {
      "cell_type": "code",
      "execution_count": 330,
      "metadata": {
        "colab": {
          "base_uri": "https://localhost:8080/"
        },
        "id": "PRh0X8XuNf4l",
        "outputId": "136f532e-22b0-4326-c058-5a33ee12b2f5"
      },
      "outputs": [
        {
          "name": "stdout",
          "output_type": "stream",
          "text": [
            "67034\n"
          ]
        }
      ],
      "source": [
        "vocab_size=len(tokenizer.word_index)+1\n",
        "print(vocab_size)"
      ]
    },
    {
      "cell_type": "code",
      "execution_count": 331,
      "metadata": {
        "id": "KCX5FilGSC5W"
      },
      "outputs": [],
      "source": [
        "max_len = 200"
      ]
    },
    {
      "cell_type": "code",
      "execution_count": 332,
      "metadata": {
        "id": "6BFLitnxR9rN"
      },
      "outputs": [],
      "source": [
        "train_padded = pad_sequences(\n",
        "    train_sequences, maxlen=max_len, truncating=\"post\", padding=\"post\"\n",
        ")"
      ]
    },
    {
      "cell_type": "code",
      "execution_count": 333,
      "metadata": {
        "colab": {
          "base_uri": "https://localhost:8080/"
        },
        "id": "o3Pj-VIqVWaE",
        "outputId": "bbbdc189-b65d-48a5-a3e2-e8746a7e408d"
      },
      "outputs": [
        {
          "data": {
            "text/plain": [
              "200"
            ]
          },
          "execution_count": 333,
          "metadata": {},
          "output_type": "execute_result"
        }
      ],
      "source": [
        "len(train_padded[0])"
      ]
    },
    {
      "cell_type": "code",
      "execution_count": 334,
      "metadata": {
        "colab": {
          "base_uri": "https://localhost:8080/"
        },
        "id": "2rQQyxPBcCD8",
        "outputId": "77aa5304-5fe3-4876-a14c-7f8c0194f327"
      },
      "outputs": [
        {
          "data": {
            "text/plain": [
              "(3623,)"
            ]
          },
          "execution_count": 334,
          "metadata": {},
          "output_type": "execute_result"
        }
      ],
      "source": [
        "y_train.shape"
      ]
    },
    {
      "cell_type": "code",
      "execution_count": 324,
      "metadata": {
        "id": "pB-JeLXocF4W"
      },
      "outputs": [],
      "source": [
        "cv_sequences = tokenizer.texts_to_sequences(x_cv)\n",
        "cv_padded = pad_sequences(\n",
        "    cv_sequences, maxlen=max_len, padding=\"post\", truncating=\"post\"\n",
        ")"
      ]
    },
    {
      "cell_type": "code",
      "execution_count": 324,
      "metadata": {
        "id": "g0gfBZaXcF07"
      },
      "outputs": [],
      "source": []
    },
    {
      "cell_type": "code",
      "execution_count": 325,
      "metadata": {
        "id": "m5BvjvO2Z6PZ"
      },
      "outputs": [],
      "source": [
        "test_sequences = tokenizer.texts_to_sequences(x_test)\n",
        "test_padded = pad_sequences(\n",
        "    test_sequences, maxlen=max_len, padding=\"post\", truncating=\"post\"\n",
        ")"
      ]
    },
    {
      "cell_type": "code",
      "execution_count": 289,
      "metadata": {
        "id": "ouybzbfUR9nt"
      },
      "outputs": [],
      "source": [
        "# !wget https://nlp.stanford.edu/data/glove.twitter.27B.zip"
      ]
    },
    {
      "cell_type": "code",
      "execution_count": 290,
      "metadata": {
        "id": "81Z3xQffR9lI"
      },
      "outputs": [],
      "source": [
        "# !unzip glove.twitter.27B.zip"
      ]
    },
    {
      "cell_type": "code",
      "execution_count": 291,
      "metadata": {
        "id": "Oz7auWOAR9iN"
      },
      "outputs": [],
      "source": [
        "# !ls"
      ]
    },
    {
      "cell_type": "code",
      "execution_count": 292,
      "metadata": {
        "id": "tz2Wjf45R9ek"
      },
      "outputs": [],
      "source": [
        "embedding_dict = dict()\n",
        "embedding_dim = 300\n",
        "with open(\"glove.42B.300d.txt\", \"r\") as f:\n",
        "    for line in f:\n",
        "        values = line.split()\n",
        "        word = values[0]\n",
        "        vectors = np.asarray(values[1:], \"float32\")\n",
        "        embedding_dict[word] = vectors\n",
        "f.close()"
      ]
    },
    {
      "cell_type": "code",
      "execution_count": 293,
      "metadata": {
        "id": "Md0ngHun_2jS"
      },
      "outputs": [],
      "source": [
        "embedding_dim=300"
      ]
    },
    {
      "cell_type": "code",
      "execution_count": 294,
      "metadata": {
        "id": "xR88UEWBSOJE"
      },
      "outputs": [],
      "source": [
        "vocab_size = len(tokenizer.word_index)+1\n",
        "embedding_matrix = np.zeros((vocab_size, 300))\n",
        "\n",
        "for word, i in tokenizer.word_index.items():\n",
        "    if i < vocab_size:\n",
        "        emb_vec = embedding_dict.get(word)\n",
        "        if emb_vec is not None:\n",
        "            embedding_matrix[i] = emb_vec"
      ]
    },
    {
      "cell_type": "code",
      "execution_count": 295,
      "metadata": {
        "id": "aAfmzghGSOG3"
      },
      "outputs": [],
      "source": [
        "from keras.models import Sequential\n",
        "from keras.layers import Dense, Embedding, GRU, LSTM,GlobalMaxPool1D,Dropout\n",
        "from keras.layers.embeddings import Embedding\n",
        "from keras.initializers import Constant\n",
        "from keras.callbacks import ModelCheckpoint\n",
        "from keras.models import load_model"
      ]
    },
    {
      "cell_type": "code",
      "execution_count": 296,
      "metadata": {
        "id": "Zfg7CpKHSOFD"
      },
      "outputs": [],
      "source": [
        "embedding_layer = Embedding(len(tokenizer.word_index) + 1,\n",
        "                            embedding_dim,\n",
        "                            weights=[embedding_matrix],\n",
        "                            input_length=200,\n",
        "                            trainable=False)"
      ]
    },
    {
      "cell_type": "code",
      "execution_count": 297,
      "metadata": {
        "colab": {
          "base_uri": "https://localhost:8080/"
        },
        "id": "XjjUbc-QSOCM",
        "outputId": "035bcdad-afe1-4fc5-e84e-b9ac6078fe59"
      },
      "outputs": [
        {
          "name": "stdout",
          "output_type": "stream",
          "text": [
            "WARNING:tensorflow:Layer lstm_26 will not use cuDNN kernels since it doesn't meet the criteria. It will use a generic GPU kernel as fallback when running on GPU.\n",
            "Summary of the built model...\n",
            "Model: \"sequential_16\"\n",
            "_________________________________________________________________\n",
            " Layer (type)                Output Shape              Param #   \n",
            "=================================================================\n",
            " embedding_10 (Embedding)    (None, 200, 300)          24398100  \n",
            "                                                                 \n",
            " lstm_26 (LSTM)              (None, 200, 64)           93440     \n",
            "                                                                 \n",
            " lstm_27 (LSTM)              (None, 200, 128)          98816     \n",
            "                                                                 \n",
            " global_max_pooling1d_11 (Gl  (None, 128)              0         \n",
            " obalMaxPooling1D)                                               \n",
            "                                                                 \n",
            " dropout_9 (Dropout)         (None, 128)               0         \n",
            "                                                                 \n",
            " dense_12 (Dense)            (None, 1)                 129       \n",
            "                                                                 \n",
            "=================================================================\n",
            "Total params: 24,590,485\n",
            "Trainable params: 192,385\n",
            "Non-trainable params: 24,398,100\n",
            "_________________________________________________________________\n",
            "None\n"
          ]
        }
      ],
      "source": [
        "model = Sequential()\n",
        "model.add(embedding_layer)\n",
        "model.add(LSTM(64, dropout=0.2,recurrent_dropout=0.2, return_sequences=True))\n",
        "model.add(LSTM(128 ,dropout=0.2,return_sequences=True))\n",
        "model.add(GlobalMaxPool1D())\n",
        "#model.add(Dense(50, activation='relu'))\n",
        "model.add(Dropout(0.25))\n",
        "model.add(Dense(1, activation='sigmoid'))\n",
        "\n",
        "model.compile(loss='binary_crossentropy', optimizer='adam', metrics=['acc'])\n",
        "\n",
        "print('Summary of the built model...')\n",
        "print(model.summary())"
      ]
    },
    {
      "cell_type": "code",
      "execution_count": 299,
      "metadata": {
        "colab": {
          "base_uri": "https://localhost:8080/"
        },
        "id": "HrirQDxxSN_k",
        "outputId": "eb4616f9-2468-4171-eb9a-e26ca1f6bc4d"
      },
      "outputs": [
        {
          "name": "stdout",
          "output_type": "stream",
          "text": [
            "Epoch 1/15\n",
            "162/162 [==============================] - 97s 575ms/step - loss: 0.4655 - acc: 0.7863 - val_loss: 0.4392 - val_acc: 0.8072\n",
            "Epoch 2/15\n",
            "162/162 [==============================] - 92s 569ms/step - loss: 0.4295 - acc: 0.8145 - val_loss: 0.4108 - val_acc: 0.8306\n",
            "Epoch 3/15\n",
            "162/162 [==============================] - 92s 568ms/step - loss: 0.4147 - acc: 0.8253 - val_loss: 0.3836 - val_acc: 0.8383\n",
            "Epoch 4/15\n",
            "162/162 [==============================] - 93s 574ms/step - loss: 0.4024 - acc: 0.8337 - val_loss: 0.3863 - val_acc: 0.8375\n",
            "Epoch 5/15\n",
            "162/162 [==============================] - 93s 573ms/step - loss: 0.3797 - acc: 0.8402 - val_loss: 0.3464 - val_acc: 0.8640\n",
            "Epoch 6/15\n",
            "162/162 [==============================] - 92s 569ms/step - loss: 0.3628 - acc: 0.8510 - val_loss: 0.3124 - val_acc: 0.8723\n",
            "Epoch 7/15\n",
            "162/162 [==============================] - 92s 570ms/step - loss: 0.3383 - acc: 0.8619 - val_loss: 0.2975 - val_acc: 0.8796\n",
            "Epoch 8/15\n",
            "162/162 [==============================] - 92s 569ms/step - loss: 0.3162 - acc: 0.8719 - val_loss: 0.2573 - val_acc: 0.8993\n",
            "Epoch 9/15\n",
            "162/162 [==============================] - 93s 575ms/step - loss: 0.2896 - acc: 0.8829 - val_loss: 0.2602 - val_acc: 0.9065\n",
            "Epoch 10/15\n",
            "162/162 [==============================] - 94s 582ms/step - loss: 0.2632 - acc: 0.8953 - val_loss: 0.2150 - val_acc: 0.9189\n",
            "Epoch 11/15\n",
            "162/162 [==============================] - 94s 580ms/step - loss: 0.2431 - acc: 0.9015 - val_loss: 0.1795 - val_acc: 0.9347\n",
            "Epoch 12/15\n",
            "162/162 [==============================] - 93s 574ms/step - loss: 0.2232 - acc: 0.9082 - val_loss: 0.1578 - val_acc: 0.9407\n",
            "Epoch 13/15\n",
            "162/162 [==============================] - 93s 572ms/step - loss: 0.2088 - acc: 0.9134 - val_loss: 0.1447 - val_acc: 0.9465\n",
            "Epoch 14/15\n",
            "162/162 [==============================] - 93s 577ms/step - loss: 0.1814 - acc: 0.9295 - val_loss: 0.1270 - val_acc: 0.9544\n",
            "Epoch 15/15\n",
            "162/162 [==============================] - 95s 584ms/step - loss: 0.1796 - acc: 0.9266 - val_loss: 0.1116 - val_acc: 0.9577\n"
          ]
        }
      ],
      "source": [
        "history = model.fit(train_padded,y_tr, batch_size=32, epochs=15, validation_data=(train_padded, y_tr), verbose=1)"
      ]
    },
    {
      "cell_type": "code",
      "execution_count": 300,
      "metadata": {
        "colab": {
          "base_uri": "https://localhost:8080/",
          "height": 569
        },
        "id": "9GfQemTsSN8u",
        "outputId": "cc053ebf-aef4-4e04-f441-0392237b93f5"
      },
      "outputs": [
        {
          "data": {
            "image/png": "[encoded data removed]",
            "text/plain": [
              "<Figure size 432x288 with 1 Axes>"
            ]
          },
          "metadata": {},
          "output_type": "display_data"
        },
        {
          "data": {
            "image/png": "[encoded data removed]",
            "text/plain": [
              "<Figure size 432x288 with 1 Axes>"
            ]
          },
          "metadata": {},
          "output_type": "display_data"
        }
      ],
      "source": [
        "# Plot results\n",
        "import numpy as np \n",
        "import pandas as pd\n",
        "import os\n",
        "import re\n",
        "import matplotlib.pyplot as plt\n",
        "\n",
        "\n",
        "acc = history.history['acc']\n",
        "val_acc = history.history['val_acc']\n",
        "loss = history.history['loss']\n",
        "val_loss = history.history['val_loss']\n",
        "\n",
        "epochs = range(1, len(acc)+1)\n",
        "\n",
        "plt.plot(epochs, acc, 'g', label='Training accuracy')\n",
        "plt.plot(epochs, val_acc, 'r', label='Validation accuracy')\n",
        "plt.title('Training and validation accuracy')\n",
        "plt.legend()\n",
        "\n",
        "plt.figure()\n",
        "\n",
        "plt.plot(epochs, loss, 'g', label='Training loss')\n",
        "plt.plot(epochs, val_loss, 'r', label='Validation loss')\n",
        "plt.title('Training and validation loss')\n",
        "plt.legend()\n",
        "\n",
        "plt.show()"
      ]
    },
    {
      "cell_type": "code",
      "execution_count": null,
      "metadata": {
        "id": "4SnYtEa-Au0A"
      },
      "outputs": [],
      "source": []
    },
    {
      "cell_type": "code",
      "execution_count": null,
      "metadata": {
        "id": "qy3uhhmqAuw_"
      },
      "outputs": [],
      "source": []
    },
    {
      "cell_type": "code",
      "execution_count": null,
      "metadata": {
        "id": "iOvTZMGbSN51"
      },
      "outputs": [],
      "source": []
    },
    {
      "cell_type": "code",
      "execution_count": null,
      "metadata": {
        "id": "Eprzms8fNf1u"
      },
      "outputs": [],
      "source": []
    },
    {
      "cell_type": "code",
      "execution_count": null,
      "metadata": {
        "id": "KIfiJucFEnQl"
      },
      "outputs": [],
      "source": []
    },
    {
      "cell_type": "code",
      "execution_count": null,
      "metadata": {
        "id": "KAhz4SVsAjYP"
      },
      "outputs": [],
      "source": []
    },
    {
      "cell_type": "code",
      "execution_count": null,
      "metadata": {
        "id": "KLa0MYIRAjV2"
      },
      "outputs": [],
      "source": []
    },
    {
      "cell_type": "code",
      "execution_count": null,
      "metadata": {
        "id": "gCIbb4iiAjSo"
      },
      "outputs": [],
      "source": []
    },
    {
      "cell_type": "code",
      "execution_count": null,
      "metadata": {
        "id": "mhFk8I_rAjPp"
      },
      "outputs": [],
      "source": []
    },
    {
      "cell_type": "code",
      "execution_count": null,
      "metadata": {
        "id": "8nnqicFPAjMW"
      },
      "outputs": [],
      "source": []
    },
    {
      "cell_type": "code",
      "execution_count": null,
      "metadata": {
        "id": "RP7OD6ofAjJd"
      },
      "outputs": [],
      "source": []
    },
    {
      "cell_type": "code",
      "execution_count": null,
      "metadata": {
        "id": "4iVi6L6-Eh_N"
      },
      "outputs": [],
      "source": []
    }
  ],
  "metadata": {
    "accelerator": "GPU",
    "colab": {
      "collapsed_sections": [],
      "machine_shape": "hm",
      "name": "StumbleUpon Evergreen Classification ",
      "provenance": []
    },
    "kernelspec": {
      "display_name": "Python 3",
      "name": "python3"
    },
    "language_info": {
      "name": "python"
    }
  },
  "nbformat": 4,
  "nbformat_minor": 0
}
